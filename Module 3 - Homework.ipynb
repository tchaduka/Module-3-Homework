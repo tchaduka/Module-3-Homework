{
 "cells": [
  {
   "cell_type": "markdown",
   "metadata": {},
   "source": [
    "### Exercise 1\n",
    "Ask a user for 5 names and place each one in to a list called <i>names</i>. Then, print <i>names</i>."
   ]
  },
  {
   "cell_type": "code",
   "execution_count": 1,
   "metadata": {},
   "outputs": [
    {
     "name": "stdout",
     "output_type": "stream",
     "text": [
      "Enter a name: Arya\n",
      "Enter a name: Tinashe\n",
      "Enter a name: Mea\n",
      "Enter a name: Chiedzo\n",
      "Enter a name: Lance\n",
      "['Arya', 'Tinashe', 'Mea', 'Chiedzo', 'Lance']\n"
     ]
    }
   ],
   "source": [
    "names = []\n",
    "# ask someone to give you five names and have each one of the names into a list\n",
    "\n",
    "names.append(input(\"Enter a name: \"))\n",
    "names.append(input(\"Enter a name: \"))\n",
    "names.append(input(\"Enter a name: \"))\n",
    "names.append(input(\"Enter a name: \"))\n",
    "names.append(input(\"Enter a name: \"))\n",
    "    \n",
    "print(names)    "
   ]
  },
  {
   "cell_type": "markdown",
   "metadata": {},
   "source": [
    "### Exercise 2\n",
    "Print out a randomly selected name in the names list."
   ]
  },
  {
   "cell_type": "code",
   "execution_count": 8,
   "metadata": {},
   "outputs": [
    {
     "data": {
      "text/plain": [
       "'Lance'"
      ]
     },
     "execution_count": 8,
     "metadata": {},
     "output_type": "execute_result"
    }
   ],
   "source": [
    "# import the random library\n",
    "\n",
    "import random as rand\n",
    "\n",
    "# generate a random number in the range of the list 'name' (0-4)\n",
    "\n",
    "name = rand.randint(0,4)\n",
    "\n",
    "# print out whatever name is in index position of the random number\n",
    "\n",
    "names[name]"
   ]
  },
  {
   "cell_type": "markdown",
   "metadata": {},
   "source": [
    "### Exercise 3\n",
    "\n",
    "Ask a user for a specific color and store that value into a variable. If the answer is gray, print \"You found Victor's favorite color!\". If the answer is anything besides gray, print \"[color name] is not Victor's favorite color.\""
   ]
  },
  {
   "cell_type": "code",
   "execution_count": 13,
   "metadata": {},
   "outputs": [
    {
     "name": "stdout",
     "output_type": "stream",
     "text": [
      "Please enter the name of a color: GRay\n",
      "You found Victor's favorite color!\n"
     ]
    }
   ],
   "source": [
    "# ask a user for a specific color and store the value into a variable.\n",
    "\n",
    "color = input(\"Please enter the name of a color: \")\n",
    "\n",
    "if color == \"Gray\" or \"gray\" or \"GRAY\" or \"GRay\":\n",
    "    print(\"You found Victor's favorite color!\")\n",
    "else:\n",
    "    print(f\"{color} is not Victor's favorite color.\")"
   ]
  },
  {
   "cell_type": "markdown",
   "metadata": {},
   "source": [
    "### Exercise 4\n",
    "Ask for an exam score and store that number. If the number is greater than 100, then print out 'You cannot have an exam score higher than 100'. If the number doesn't exceeed 100 but is greater than or equal to 75, then print out 'You did great on your exam!'. Otherwise if they scored lower than 75, then print out 'You need to study harder'."
   ]
  },
  {
   "cell_type": "code",
   "execution_count": null,
   "metadata": {},
   "outputs": [],
   "source": [
    "# exam score evaluation entry system\n",
    "\n",
    "score = int(input(\"Please enter your test score: \"))\n",
    "\n",
    "if score > 100:\n",
    "    print(\"You cannot have an exam score higher than 100.\")\n",
    "elif score < 100 and score >= 75:\n",
    "    print(\"You did great on your exam!\")\n",
    "else:\n",
    "    print(\"You need to study harder!\")"
   ]
  },
  {
   "cell_type": "markdown",
   "metadata": {},
   "source": [
    "### Exercise 5\n",
    "Write a function to convert a test score to a grade where  \n",
    " - 90 - 100: A\n",
    " - 80 - 89:  B\n",
    " - 70 - 79:  C\n",
    " - 60 - 69:  D\n",
    " - < 60   :  F\n",
    " \n",
    "If a score is not between 0 and 100 then print out an error message. In the program, ask the user for a score and then call your function. "
   ]
  },
  {
   "cell_type": "code",
   "execution_count": 14,
   "metadata": {},
   "outputs": [
    {
     "name": "stdout",
     "output_type": "stream",
     "text": [
      "Please enter your test score: 93\n",
      "Your grade is a A\n"
     ]
    }
   ],
   "source": [
    "# define a function that gives you your grade when you enter your score in an exam.\n",
    "\n",
    "def convert_to_grade(score):\n",
    "    if score > 100 or score < 0:\n",
    "        print(\"ERROR: Score must be between 0 and 100\")\n",
    "    elif score >= 90:\n",
    "        print(\"Your grade is a A\")\n",
    "    elif score >= 80: \n",
    "        print(\"Your grade is a B\")\n",
    "    elif score >= 70:\n",
    "        print(\"Your grade is a C\")\n",
    "    elif score >= 60:\n",
    "        print(\"Your grade is a D\")\n",
    "    else:\n",
    "        print(\"Your grade is a F\")\n",
    "\n",
    "# apply the function \n",
    "\n",
    "score = int(input(\"Please enter your test score: \"))\n",
    "\n",
    "convert_to_grade(score)"
   ]
  }
 ],
 "metadata": {
  "kernelspec": {
   "display_name": "Python 3 (ipykernel)",
   "language": "python",
   "name": "python3"
  },
  "language_info": {
   "codemirror_mode": {
    "name": "ipython",
    "version": 3
   },
   "file_extension": ".py",
   "mimetype": "text/x-python",
   "name": "python",
   "nbconvert_exporter": "python",
   "pygments_lexer": "ipython3",
   "version": "3.9.13"
  }
 },
 "nbformat": 4,
 "nbformat_minor": 4
}
